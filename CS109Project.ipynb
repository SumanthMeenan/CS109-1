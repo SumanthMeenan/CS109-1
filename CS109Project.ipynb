{
 "metadata": {
  "name": "",
  "signature": "sha256:15ba1d5f691cdf914bc5aea9cf9031ffed737cd22ba47d5e5510f219f58469b1"
 },
 "nbformat": 3,
 "nbformat_minor": 0,
 "worksheets": [
  {
   "cells": [
    {
     "cell_type": "markdown",
     "metadata": {},
     "source": [
      "# Overview and Motivation:\n",
      "\n",
      "<img src= http://www.ihi.org/Engage/Initiatives/TripleAim/Documents/Triple-Aim-Triangle_withTitle%20white%20background%20v3.jpg>\n",
      "\n",
      "The US health care system is the most costly in the world, accounting for 17% of the gross domestic product with estimates that percentage will grow to nearly 20% by 2020. [Source: National Healthcare Expenditure Projections, 2010-2020. Centers for Medicare and Medicaid Services, Office of the Actuary.] At the same time, countries with health systems that out-perform the US are also under pressure to derive greater value for the resources devoted to their health care systems. Aging populations and increased longevity, coupled with chronic health problems, have become a global challenge, putting new demands on medical and social services.\n",
      "\n",
      "In most health care settings today, no one is accountable for all three dimensions of the IHI Triple Aim. For the health of our communities, for the health of our school systems, and for the health of all our patients, we need to address all three of the Triple Aim dimensions at the same time.\n",
      " \n",
      "Because the IHI Triple Aim entails ambitious improvement at all levels of the system, the IHI advocates a systematic approach to change. Based on six phases of pilot testing with over 100 organizations around the world, IHI recommends a change process that includes: identification of target populations; definition of system aims and measures; development of a portfolio of project work that is sufficiently strong to move system-level results, and rapid testing and scale up that is adapted to local needs and conditions.\n",
      " \n",
      "IHI believes that to do this work effectively, it\u2019s important to harness a range of community determinants of health, empower individuals and families, substantially broaden the role and impact of primary care and other community based services, and assure a seamless journey through the whole system of care throughout a person\u2019s life.\n",
      " \n",
      "In the US environment many areas of health reform can be furthered and strengthened by Triple Aim thinking, including:  accountable care organizations (ACOs), bundled payments, and other innovative financing approaches; new models of primary care, such as patient-centered medical homes; sanctions for avoidable events, such as hospital readmissions or infections; and the integration of information technology.\n",
      "\n",
      "Source:  http://www.ihi.org/Engage/Initiatives/TripleAim/Pages/default.aspx"
     ]
    },
    {
     "cell_type": "markdown",
     "metadata": {},
     "source": [
      "## Related Work: \n",
      "\n",
      "The Cost of Diabetes - study by the American Diabetes Association\n",
      "\n",
      "The American Diabetes Association (Association) released new research on March 6, 2013 estimating the impact of diabetes in our society.\n",
      "The estimated total economic cost of diagnosed diabetes in 2012 is 245 billion, a 41% increase from our previous estimate of 174 billion (in 2007 dollars). This estimate highlights the substantial burden that diabetes imposes on society. Additional components of societal burden omitted from our study include intangibles from pain and suffering, resources from care provided by nonpaid caregivers, and the burden associated with undiagnosed diabetes.\n",
      "\n",
      "Diabetes imposes a substantial burden on the economy of the U.S. in the form of increased medical costs and indirect costs from work-related absenteeism, reduced productivity at work and at home, reduced labor force participation from chronic disability, and premature mortality (1,2). In addition to the economic burden that has been quantified, diabetes imposes high intangible costs on society in terms of reduced quality of life and pain and suffering of people with diabetes, their families, and friends.\n",
      "\n",
      "Improved understanding of the economic cost of diabetes and its major determinants helps to inform policymakers and to motivate decisions to reduce diabetes prevalence and burden. The previous cost of diabetes study by the American Diabetes Association (ADA) estimated that there were nearly 17.5 million people living in the U.S. with diagnosed type 1 or type 2 diabetes in 2007, at an estimated cost of $174 billion in higher medical costs and lost productivity.\n",
      "\n",
      "The percentage of the population with diagnosed diabetes continues to rise, with one study projecting that as many as one in three U.S. adults could have diabetes by 2050 if current trends continue. In this updated cost of diabetes study, they estimate the total national economic burden of diagnosed diabetes in 2012 reflecting continued growth in prevalence of diabetes and its complications; changing health care practices, technology, and cost of treatment; and changing economic conditions.\n",
      "\n",
      "Among states, California has the largest population with diabetes and thus the highest costs, at 27.6 billion.  Although Florida\u2019s total population is 4th among states behind California, Texas, and New York, Florida is 2nd in costs at $18.9 billion.  For the state of New York 6.80% of the population had diabetes, impacting 1,321,800 people.\n",
      "\n",
      "Source: http://care.diabetesjournals.org/content/36/4/1033.full\n",
      "\n",
      "\n",
      "The two team members on this project both work in the healthcare setting and are actively working to design better ways to impact how care is delivered in the ambulatory and clinic settings in our communities.  "
     ]
    },
    {
     "cell_type": "markdown",
     "metadata": {},
     "source": [
      "## Initial Questions: \n",
      "\n",
      "We would like to understand what underlying factors are prevelant in the state of New York population and help determine which conditions are correlated to the use of emergency room geographically by zipcode. The study has pointed out a number of factors in the nationwide data that we would like to use data science to explore in the New York data to see if that is evident in this population or perhaps if there are other drivers or better predictors of Emergency Department use.\n",
      "\n",
      "The areas noted in the national study that tied to higher use were:\n",
      "\n",
      "- insurance coverage (whether people had coverage or not)\n",
      "- ethnicity\n",
      "- social economic status\n",
      "- Access to primary care\n",
      "- Education level\n",
      "\n",
      "\n",
      "As well, there are a number of other potential areas such as diet (could be infered through obesity rates), self management compliance, and other factors that have been shown to impact diabetes and ED use in other reports.  There is some of that level of data on the website.   With all of this, we can explore and help identify what are the factors that correlate to the emergency room visits in the state of New York data.\n"
     ]
    },
    {
     "cell_type": "markdown",
     "metadata": {},
     "source": [
      "## Data: \n",
      "\n",
      "Our source of data will come from information hosted on the https://health.data.ny.gov/ website in various datasets.  They are constructed in delimited files and APIs that can be read in for our data analysis\n",
      "\n",
      "\n",
      "We will be linking into the following datasets for our review:\n",
      "\n",
      "All payor potentially preventable Emergency Visits by patient county:\n",
      "https://health.data.ny.gov/Health/All-Payer-Potentially-Preventable-Emergency-Visit-/f8ue-xzy3\n",
      "\n",
      "Hospital 2012 Inpatient deidentified patient data (can link into other years as needed) to help pull demographic data \n",
      "https://health.data.ny.gov/download/3m9u-ws8e/application/zip\n",
      "\n",
      "Community heatlh indicator report (looking at overall community health items like diabetic education)\n",
      "https://health.data.ny.gov/Health/Community-Health-Indicator-Reports-CHIRS-Latest-Da/54ci-sdfi\n",
      "\n",
      "Provider listing (access to care/specialists)\n",
      "https://health.data.ny.gov/download/97uk-ctjs/application/zip\n",
      "\n",
      "Community Health Obesity and Diabetes Related Indicators: 2013\n",
      "https://health.data.ny.gov/Health/Community-Health-Obesity-and-Diabetes-Related-Indi/tchg-ruva\n",
      "\n",
      "QARR: Diabetes Adult Health by Payer (to pull appropriate compliance of diabetic self management such as A1C) \n",
      "https://health.data.ny.gov/Health/QARR-Diabetes-Adult-Health-by-Payer/skh2-3uhw\n",
      "\n",
      "\n"
     ]
    },
    {
     "cell_type": "markdown",
     "metadata": {},
     "source": [
      "## Exploratory Analysis: \n",
      "What visualizations did you use to look at your data in different ways? What are the different statistical methods you considered? Justify the decisions you made, and show any major changes to your ideas. How did you reach these conclusions?\n",
      "\n",
      "\n",
      "\n",
      "\n",
      "\n",
      "Our approach is to do the following:\n",
      "\n",
      "- Create an aggregated dataset that will aggregate our target variable (ED utilization) and tie in all variables that are indicated as leading predictors of ED use\n",
      "\n",
      "    - aggregeate data results by zip code to identify geographical opportunity\n",
      "    \n",
      "    - identify limitations of data that we need to consider in the data sets we are using\n",
      "\n",
      "\n",
      "-  Perform exploratory data analysis to review the interactions on the variables and the target - what trends do we see and do we see the same indicators identified in the ADA study as key drivers in the state of New York Data\n",
      "\n",
      "    - using typical EDA approaches of scatter plots, histograms, etc. to determine appropriate variables to use and patterns in data\n",
      "\n",
      "\n",
      "- Once we pare down the listing of variables to the ones that show correlation to ED utilization, we will explore performing principle component analysis to help identify those key areas that help explain variation of usage of the ED.   As well, we can explore using regression to determine the variables that contribute to the ED use by zip code\n",
      "\n",
      "\n",
      "- Develop a key set of summary graphs or illustrations to summarize the key findings.   Would be ideal to see if we possibly leverage into some sort of map graphic for demonstrating some findings - but we haven't learned that level of functionality in our class. \n",
      "\n",
      "\n",
      "We will be documenting the statistical methods use, why we used them, and if we had to modify our ideas based on the review of the data.\n"
     ]
    },
    {
     "cell_type": "code",
     "collapsed": false,
     "input": [],
     "language": "python",
     "metadata": {},
     "outputs": [],
     "prompt_number": 0
    },
    {
     "cell_type": "markdown",
     "metadata": {},
     "source": [
      "# Final Analysis: \n",
      "What did you learn about the data? How did you answer the questions? How can you justify your answers?"
     ]
    }
   ],
   "metadata": {}
  }
 ]
}